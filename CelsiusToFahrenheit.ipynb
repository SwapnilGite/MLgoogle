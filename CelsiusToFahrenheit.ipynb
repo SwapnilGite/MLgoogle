{
  "nbformat": 4,
  "nbformat_minor": 0,
  "metadata": {
    "colab": {
      "name": "Untitled0.ipynb",
      "provenance": [],
      "authorship_tag": "ABX9TyMzjmVx2h7Oi6H7r7BXY8tX",
      "include_colab_link": true
    },
    "kernelspec": {
      "name": "python3",
      "display_name": "Python 3"
    },
    "language_info": {
      "name": "python"
    }
  },
  "cells": [
    {
      "cell_type": "markdown",
      "metadata": {
        "id": "view-in-github",
        "colab_type": "text"
      },
      "source": [
        "<a href=\"https://colab.research.google.com/github/SwapnilGite/MLgoogle/blob/main/CelsiusToFahrenheit.ipynb\" target=\"_parent\"><img src=\"https://colab.research.google.com/assets/colab-badge.svg\" alt=\"Open In Colab\"/></a>"
      ]
    },
    {
      "cell_type": "code",
      "execution_count": 3,
      "metadata": {
        "id": "7aJ1vVM0WEvh"
      },
      "outputs": [],
      "source": [
        "import tensorflow as tf\n",
        "import keras"
      ]
    },
    {
      "cell_type": "code",
      "source": [
        "import numpy as np"
      ],
      "metadata": {
        "id": "pco96uPAWLl4"
      },
      "execution_count": 4,
      "outputs": []
    },
    {
      "cell_type": "code",
      "source": [
        "celsius = np.array([-40, -10,  0,  8, 15, 22,  38],dtype = float)\n",
        "fahrenheit = np.array([-40,  14, 32, 46, 59, 72, 100],dtype = float)\n",
        "for i,e in enumerate(celsius):\n",
        "  print(\"{} celsius = {} fahrenheit\".format(i,fahrenheit[i]))\n"
      ],
      "metadata": {
        "colab": {
          "base_uri": "https://localhost:8080/"
        },
        "id": "iV5ySsY1WfFV",
        "outputId": "5a2575bf-ab17-4823-d21e-fb806232b084"
      },
      "execution_count": 5,
      "outputs": [
        {
          "output_type": "stream",
          "name": "stdout",
          "text": [
            "0 celsius = -40.0 fahrenheit\n",
            "1 celsius = 14.0 fahrenheit\n",
            "2 celsius = 32.0 fahrenheit\n",
            "3 celsius = 46.0 fahrenheit\n",
            "4 celsius = 59.0 fahrenheit\n",
            "5 celsius = 72.0 fahrenheit\n",
            "6 celsius = 100.0 fahrenheit\n"
          ]
        }
      ]
    },
    {
      "cell_type": "code",
      "source": [
        "lo = tf.keras.layers.Dense(units = 1,input_shape = [1])"
      ],
      "metadata": {
        "id": "8zk00EFAXf8o"
      },
      "execution_count": 6,
      "outputs": []
    },
    {
      "cell_type": "code",
      "source": [
        "model = tf.keras.Sequential([lo])"
      ],
      "metadata": {
        "id": "2nPRRx5lYBjl"
      },
      "execution_count": 7,
      "outputs": []
    },
    {
      "cell_type": "code",
      "source": [
        "model.compile(loss='mean_squared_error',optimizer=tf.keras.optimizers.Adam(0.1))"
      ],
      "metadata": {
        "id": "lpc-PorCYhi0"
      },
      "execution_count": 8,
      "outputs": []
    },
    {
      "cell_type": "code",
      "source": [
        "his = model.fit(celsius,fahrenheit,epochs = 600,verbose = False)"
      ],
      "metadata": {
        "id": "bbB8hepjZUV7"
      },
      "execution_count": 9,
      "outputs": []
    },
    {
      "cell_type": "code",
      "source": [
        "import matplotlib.pyplot as plt\n",
        "plt.xlabel(\"Epoch\")\n",
        "plt.ylabel(\"Loss\")\n",
        "plt.plot(his.history['loss'])"
      ],
      "metadata": {
        "colab": {
          "base_uri": "https://localhost:8080/",
          "height": 296
        },
        "id": "wcFKPn_LZoUb",
        "outputId": "7e15cbd6-e263-4dde-c430-5f35d1cc4e9a"
      },
      "execution_count": 10,
      "outputs": [
        {
          "output_type": "execute_result",
          "data": {
            "text/plain": [
              "[<matplotlib.lines.Line2D at 0x7fd8846bda50>]"
            ]
          },
          "metadata": {},
          "execution_count": 10
        },
        {
          "output_type": "display_data",
          "data": {
            "text/plain": [
              "<Figure size 432x288 with 1 Axes>"
            ],
            "image/png": "[encoded data removed]"
          },
          "metadata": {
            "needs_background": "light"
          }
        }
      ]
    },
    {
      "cell_type": "code",
      "source": [
        "print(model.predict([100]))"
      ],
      "metadata": {
        "colab": {
          "base_uri": "https://localhost:8080/"
        },
        "id": "BScGvGOAaPYZ",
        "outputId": "461a4e5f-a1b5-4b52-c5c7-bf73960135a1"
      },
      "execution_count": 11,
      "outputs": [
        {
          "output_type": "stream",
          "name": "stdout",
          "text": [
            "[[211.55632]]\n"
          ]
        }
      ]
    },
    {
      "cell_type": "code",
      "source": [
        "print(model.predict([0]))"
      ],
      "metadata": {
        "colab": {
          "base_uri": "https://localhost:8080/"
        },
        "id": "GQ6z_FOyai66",
        "outputId": "83b0cbc4-8b4f-4ba0-f89d-f7c6fc8aafe2"
      },
      "execution_count": 12,
      "outputs": [
        {
          "output_type": "stream",
          "name": "stdout",
          "text": [
            "[[30.725965]]\n"
          ]
        }
      ]
    },
    {
      "cell_type": "code",
      "source": [
        "lo.get_weights()"
      ],
      "metadata": {
        "colab": {
          "base_uri": "https://localhost:8080/"
        },
        "id": "Xyk-lHcfbXxc",
        "outputId": "876e63d2-d5e8-4589-de39-2f19005bfc98"
      },
      "execution_count": 13,
      "outputs": [
        {
          "output_type": "execute_result",
          "data": {
            "text/plain": [
              "[array([[1.8083036]], dtype=float32), array([30.725965], dtype=float32)]"
            ]
          },
          "metadata": {},
          "execution_count": 13
        }
      ]
    },
    {
      "cell_type": "code",
      "source": [
        "print(model.predict([25]))"
      ],
      "metadata": {
        "colab": {
          "base_uri": "https://localhost:8080/"
        },
        "id": "MN0McI9CdZ8P",
        "outputId": "e525603f-70b4-4e5a-fbe9-bf8c785b15dc"
      },
      "execution_count": 14,
      "outputs": [
        {
          "output_type": "stream",
          "name": "stdout",
          "text": [
            "[[75.933556]]\n"
          ]
        }
      ]
    },
    {
      "cell_type": "code",
      "source": [
        ""
      ],
      "metadata": {
        "id": "V42RMXNgLr-O"
      },
      "execution_count": null,
      "outputs": []
    }
  ]
}